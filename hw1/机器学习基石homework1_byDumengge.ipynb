{
 "cells": [
  {
   "cell_type": "markdown",
   "metadata": {},
   "source": [
    "# Q15题 感知机算法实现"
   ]
  },
  {
   "cell_type": "code",
   "execution_count": 2,
   "metadata": {},
   "outputs": [],
   "source": [
    "import numpy as np\n",
    "import matplotlib.pyplot as plt\n",
    "%matplotlib inline"
   ]
  },
  {
   "cell_type": "code",
   "execution_count": 101,
   "metadata": {},
   "outputs": [],
   "source": [
    "# 导入并处理数据\n",
    "def loaddata(filename):\n",
    "    data = np.loadtxt(filename)\n",
    "    row,col = np.shape(data)\n",
    "    X = np.concatenate([np.ones((row,1)), data[:,:col-1]], axis =1)\n",
    "    y = data[:, -1].reshape((row, 1))\n",
    "    return X,y\n",
    "    "
   ]
  },
  {
   "cell_type": "code",
   "execution_count": 102,
   "metadata": {
    "scrolled": false
   },
   "outputs": [
    {
     "name": "stdout",
     "output_type": "stream",
     "text": [
      "X的前五行: \n",
      " [[1.       0.97681  0.10723  0.64385  0.29556 ]\n",
      " [1.       0.67194  0.2418   0.83075  0.42741 ]\n",
      " [1.       0.20619  0.23321  0.81004  0.98691 ]\n",
      " [1.       0.51583  0.055814 0.92274  0.75797 ]\n",
      " [1.       0.70893  0.10836  0.33951  0.77058 ]]\n",
      "y的 前五行: \n",
      " [[1.]\n",
      " [1.]\n",
      " [1.]\n",
      " [1.]\n",
      " [1.]]\n"
     ]
    }
   ],
   "source": [
    "filename = 'hw1_15_train.dat'\n",
    "X,y = loaddata(filename)\n",
    "print('X的前五行: \\n', X[:5,:])\n",
    "print('y的 前五行: \\n', y[:5,])"
   ]
  },
  {
   "cell_type": "code",
   "execution_count": 112,
   "metadata": {},
   "outputs": [
    {
     "data": {
      "text/plain": [
       "array([ True])"
      ]
     },
     "execution_count": 112,
     "metadata": {},
     "output_type": "execute_result"
    }
   ],
   "source": [
    "np.array([1]) == np.array([1.0])"
   ]
  },
  {
   "cell_type": "code",
   "execution_count": 118,
   "metadata": {},
   "outputs": [
    {
     "data": {
      "text/plain": [
       "(45, array([[-3.       ],\n",
       "        [ 3.0841436],\n",
       "        [-1.583081 ],\n",
       "        [ 2.391305 ],\n",
       "        [ 4.5287635]]))"
      ]
     },
     "execution_count": 118,
     "metadata": {},
     "output_type": "execute_result"
    }
   ],
   "source": [
    "# 原始的pla算法\n",
    "w = np.zeros((X.shape[1], 1))\n",
    "def pla(X,y,w, iterations=100):\n",
    "    m = X.shape[0]\n",
    "    feature_num = X.shape[1]\n",
    "    num = 0\n",
    "    for iter in range(iterations):\n",
    "        flag = 1\n",
    "        for i in range(m):\n",
    "            sig = X[i:i+1,:] @ w\n",
    "            sig = np.sign(sig[0])\n",
    "           # print(sig)\n",
    "            if not sig:\n",
    "                sig =-1\n",
    "            if sig != int(y[i,0]):\n",
    "                flag =0\n",
    "                w = w + X[i:i+1,:].T *y[i,0]\n",
    "                num+=1\n",
    "        if flag:\n",
    "            break\n",
    "    return num, w\n",
    "pla(X,y,w)         "
   ]
  },
  {
   "cell_type": "markdown",
   "metadata": {},
   "source": [
    "## 感知机2 从寻找第一个错误开始"
   ]
  },
  {
   "cell_type": "code",
   "execution_count": 104,
   "metadata": {},
   "outputs": [
    {
     "data": {
      "text/plain": [
       "(39, array([[-3.      ],\n",
       "        [ 2.35262 ],\n",
       "        [-1.614215],\n",
       "        [ 2.830732],\n",
       "        [ 3.853171]]))"
      ]
     },
     "execution_count": 104,
     "metadata": {},
     "output_type": "execute_result"
    }
   ],
   "source": [
    "w = np.zeros((X.shape[1], 1))\n",
    "def pla2(X,y,w, iterations  =100):\n",
    "    num = 0\n",
    "    prvpos = 0\n",
    "    while(iterations):\n",
    "        yhat = np.sign(X @ w)\n",
    "        yhat[np.where(yhat ==0)] = -1\n",
    "        index = np.where(yhat != y)[0]\n",
    "        #print(index)\n",
    "        if not index.any():\n",
    "            break\n",
    "        if not index[index >= prvpos].any():\n",
    "            prvpos = 0\n",
    "        pos = index[ index >= prvpos][0]\n",
    "        prvpos = pos\n",
    "        \n",
    "        w =w + y[pos:pos+1,0]* X[pos:pos+1,:].T\n",
    "        \n",
    "        num+=1\n",
    "        iterations -=1\n",
    "    return num, w\n",
    "pla2(X,y,w)  "
   ]
  },
  {
   "cell_type": "markdown",
   "metadata": {},
   "source": [
    "## Q16  运行两千次"
   ]
  },
  {
   "cell_type": "code",
   "execution_count": 122,
   "metadata": {},
   "outputs": [
    {
     "name": "stdout",
     "output_type": "stream",
     "text": [
      "2000次平均迭代次数1： 40.2875\n",
      "2000次平均迭代次数2： 40.2875\n"
     ]
    }
   ],
   "source": [
    "total = 0\n",
    "total2 = 0\n",
    "for i in range(2000):\n",
    "    w = np.zeros((X.shape[1],1))\n",
    "    randseed = np.random.permutation(X.shape[0])\n",
    "    Xrand = X[randseed,:]\n",
    "    yrand = y[randseed, 0:1]\n",
    "    num,_ = pla2(Xrand,yrand,w)\n",
    "    total += num\n",
    "    w = np.zeros((X.shape[1],1))\n",
    "    num2,_= pla2(Xrand,yrand,w)\n",
    "    total2 += num2\n",
    "\n",
    "print('2000次平均迭代次数1：',total/2000)\n",
    "print('2000次平均迭代次数2：', total2/2000)\n",
    "    "
   ]
  },
  {
   "cell_type": "markdown",
   "metadata": {},
   "source": [
    "## Q18"
   ]
  },
  {
   "cell_type": "code",
   "execution_count": 124,
   "metadata": {},
   "outputs": [],
   "source": [
    "filename2 = 'hw1_18_train.dat'\n",
    "X_train,y_train = loaddata(filename2)"
   ]
  },
  {
   "cell_type": "code",
   "execution_count": 125,
   "metadata": {},
   "outputs": [],
   "source": [
    "test_file ='hw1_18_test.dat'\n",
    "X_test,y_test = loaddata(test_file)"
   ]
  },
  {
   "cell_type": "code",
   "execution_count": 126,
   "metadata": {},
   "outputs": [],
   "source": [
    "rol_train = X_train.shape[0]\n",
    "col_train = X_train.shape[1]\n",
    "w2 = np.zeros((col_train,1))"
   ]
  },
  {
   "cell_type": "code",
   "execution_count": 123,
   "metadata": {},
   "outputs": [],
   "source": [
    "def mistake(yhat,y):\n",
    "    rol = y.shape[0]\n",
    "    return np.sum(yhat != y)/rol"
   ]
  },
  {
   "cell_type": "code",
   "execution_count": 141,
   "metadata": {},
   "outputs": [],
   "source": [
    "def pocket(X,y,theta,iternums, eta):\n",
    "    yhat =  np.sign(X @ theta)\n",
    "    yhat[np.where(yhat == 0)] =-1\n",
    "    index = np.where(yhat != y)[0]\n",
    "    errold = mistake(yhat,y)\n",
    "    thetabest = np.zeros((X.shape[1],1))\n",
    "    for i in range(iternums):\n",
    "        if not index.any():\n",
    "            break\n",
    "        pos = index[np.random.permutation(len(index))][0]\n",
    "        theta = theta + eta* X[pos:pos+1,:].T *y[pos, 0]\n",
    "        yhat = np.sign(X @ theta)\n",
    "        yhat[np.where(yhat==0)] = -1\n",
    "        index = np.where(yhat!=y)[0]\n",
    "        errnew = mistake(yhat,y)\n",
    "        if errnew < errold:\n",
    "            thetabest = theta.copy()\n",
    "            errold = errnew\n",
    "    return thetabest, theta\n",
    "        "
   ]
  },
  {
   "cell_type": "code",
   "execution_count": 142,
   "metadata": {},
   "outputs": [
    {
     "name": "stdout",
     "output_type": "stream",
     "text": [
      "迭代两千次后的平均错误率： 0.1328629999999994\n"
     ]
    }
   ],
   "source": [
    "# Q18\n",
    "total = 0\n",
    "for i in range(2000):\n",
    "    theta = np.zeros((X_train.shape[1],1))\n",
    "    randpos = np.random.permutation(rol_train)\n",
    "    Xrand_train = X_train[randpos]\n",
    "    yrand_train  = y_train[randpos]\n",
    "    theta_best,_ = pocket(X_train, y_train, theta, 50, 1)\n",
    "    yhat_train = np.sign(X_test @ theta_best)\n",
    "    yhat_train[np.where(yhat_train == 0)] = -1\n",
    "    err = mistake(yhat_train, y_test)\n",
    "    total +=err\n",
    "print('迭代两千次后的平均错误率：', total/2000)"
   ]
  },
  {
   "cell_type": "code",
   "execution_count": 143,
   "metadata": {},
   "outputs": [
    {
     "name": "stdout",
     "output_type": "stream",
     "text": [
      "迭代两千次后的平均错误率： 0.2019999999999984\n"
     ]
    }
   ],
   "source": [
    "# Q19\n",
    "total = 0\n",
    "for i in range(2000):\n",
    "    theta = np.zeros((X_train.shape[1],1))\n",
    "    randpos = np.random.permutation(rol_train)\n",
    "    Xrand_train = X_train[randpos]\n",
    "    yrand_train  = y_train[randpos]\n",
    "    _,theta_best = pla2(X_train, y_train, theta, 50)\n",
    "    yhat_train = np.sign(X_test @ theta_best)\n",
    "    yhat_train[np.where(yhat_train == 0)] = -1\n",
    "    err = mistake(yhat_train, y_test)\n",
    "    total +=err\n",
    "print('迭代两千次后的平均错误率：', total/2000)"
   ]
  },
  {
   "cell_type": "code",
   "execution_count": 144,
   "metadata": {},
   "outputs": [
    {
     "name": "stdout",
     "output_type": "stream",
     "text": [
      "迭代两千次后的平均错误率： 0.11610600000000024\n"
     ]
    }
   ],
   "source": [
    "#Q20\n",
    "\n",
    "total = 0\n",
    "for i in range(2000):\n",
    "    theta = np.zeros((X_train.shape[1],1))\n",
    "    randpos = np.random.permutation(rol_train)\n",
    "    Xrand_train = X_train[randpos]\n",
    "    yrand_train  = y_train[randpos]\n",
    "    theta_best,_ = pocket(X_train, y_train, theta, 100, 1)\n",
    "    yhat_train = np.sign(X_test @ theta_best)\n",
    "    yhat_train[np.where(yhat_train == 0)] = -1\n",
    "    err = mistake(yhat_train, y_test)\n",
    "    total +=err\n",
    "print('迭代两千次后的平均错误率：', total/2000)"
   ]
  },
  {
   "cell_type": "code",
   "execution_count": null,
   "metadata": {},
   "outputs": [],
   "source": []
  }
 ],
 "metadata": {
  "kernelspec": {
   "display_name": "Python 3",
   "language": "python",
   "name": "python3"
  },
  "language_info": {
   "codemirror_mode": {
    "name": "ipython",
    "version": 3
   },
   "file_extension": ".py",
   "mimetype": "text/x-python",
   "name": "python",
   "nbconvert_exporter": "python",
   "pygments_lexer": "ipython3",
   "version": "3.6.5"
  }
 },
 "nbformat": 4,
 "nbformat_minor": 2
}
